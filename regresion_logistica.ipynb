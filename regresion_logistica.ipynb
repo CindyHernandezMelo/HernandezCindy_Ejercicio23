{
 "cells": [
  {
   "cell_type": "code",
   "execution_count": 1,
   "metadata": {},
   "outputs": [],
   "source": [
    "import matplotlib.pyplot as plt\n",
    "import numpy as np\n",
    "\n",
    "from sklearn.preprocessing import StandardScaler\n",
    "from sklearn.model_selection import train_test_split\n",
    "\n",
    "from sklearn.linear_model import LogisticRegression\n",
    "\n",
    "import pandas as pd\n",
    "\n",
    "from sklearn.metrics import plot_confusion_matrix\n",
    "from sklearn.metrics import f1_score\n"
   ]
  },
  {
   "cell_type": "markdown",
   "metadata": {},
   "source": [
    "# Base de datos\n",
    "\n",
    "La base de datos es adaptada de https://www.ncbi.nlm.nih.gov/geo/query/acc.cgi?acc=GSE81608 \n",
    "\n",
    "os islotes de Langerhans o islotes pancreáticos son cúmulos de células que se encargan de producir hormonas como la insulina y el glucagón, con función netamente endocrina. También secretan inmunoglobulinas.\n",
    "\n",
    "Las sustancias que producen cada una de estas células son:\n",
    "\n",
    "- Células alfa (α): producen la hormona polipeptídica glucagón.\n",
    "- Células beta (β): producen las hormonas polipeptídicas insulina y amilina (a una razón de 100:1 respectivamente).\n",
    "- Células delta (δ): producen el péptido somatostatina.\n",
    "- Células PP: producen un polipéptido pancreático que inhibe las secreciones exocrinas del páncreas y la motilidad del estómago y del intestino.\n",
    "\n",
    "Los datos son la expresión (en unidades de RPKM) que se obienen de la secuenciación de ARN de células (Single cell RNA seq) de islotes humanos individuales de pancreas para determinar los transcriptomos de células pancreáticas humanas α-, β-, δ- y PP  en pacientes donantes de organos con o sin  diabetes tipo 2. "
   ]
  },
  {
   "cell_type": "code",
   "execution_count": 2,
   "metadata": {},
   "outputs": [],
   "source": [
    "annotation = pd.read_csv('Annotation_Pancreas.csv', index_col = 0)\n",
    "\n",
    "clase1 = {'cell subtype: beta':1,'cell subtype: alpha':2,\n",
    "          'cell subtype: delta':3,'cell subtype: PP':4}\n",
    "\n",
    "Y = annotation['Sample_characteristics_ch5']\n"
   ]
  },
  {
   "cell_type": "code",
   "execution_count": 3,
   "metadata": {},
   "outputs": [
    {
     "data": {
      "text/html": [
       "<div>\n",
       "<style scoped>\n",
       "    .dataframe tbody tr th:only-of-type {\n",
       "        vertical-align: middle;\n",
       "    }\n",
       "\n",
       "    .dataframe tbody tr th {\n",
       "        vertical-align: top;\n",
       "    }\n",
       "\n",
       "    .dataframe thead th {\n",
       "        text-align: right;\n",
       "    }\n",
       "</style>\n",
       "<table border=\"1\" class=\"dataframe\">\n",
       "  <thead>\n",
       "    <tr style=\"text-align: right;\">\n",
       "      <th></th>\n",
       "      <th>Sample_1</th>\n",
       "      <th>Sample_2</th>\n",
       "      <th>Sample_3</th>\n",
       "      <th>Sample_4</th>\n",
       "      <th>Sample_5</th>\n",
       "      <th>Sample_6</th>\n",
       "      <th>Sample_7</th>\n",
       "      <th>Sample_8</th>\n",
       "      <th>Sample_9</th>\n",
       "      <th>Sample_10</th>\n",
       "      <th>...</th>\n",
       "      <th>Sample_1591</th>\n",
       "      <th>Sample_1592</th>\n",
       "      <th>Sample_1593</th>\n",
       "      <th>Sample_1594</th>\n",
       "      <th>Sample_1595</th>\n",
       "      <th>Sample_1596</th>\n",
       "      <th>Sample_1597</th>\n",
       "      <th>Sample_1598</th>\n",
       "      <th>Sample_1599</th>\n",
       "      <th>Sample_1600</th>\n",
       "    </tr>\n",
       "    <tr>\n",
       "      <th>gene.id</th>\n",
       "      <th></th>\n",
       "      <th></th>\n",
       "      <th></th>\n",
       "      <th></th>\n",
       "      <th></th>\n",
       "      <th></th>\n",
       "      <th></th>\n",
       "      <th></th>\n",
       "      <th></th>\n",
       "      <th></th>\n",
       "      <th></th>\n",
       "      <th></th>\n",
       "      <th></th>\n",
       "      <th></th>\n",
       "      <th></th>\n",
       "      <th></th>\n",
       "      <th></th>\n",
       "      <th></th>\n",
       "      <th></th>\n",
       "      <th></th>\n",
       "      <th></th>\n",
       "    </tr>\n",
       "  </thead>\n",
       "  <tbody>\n",
       "    <tr>\n",
       "      <th>1</th>\n",
       "      <td>47.3396</td>\n",
       "      <td>24.0458</td>\n",
       "      <td>2.2743</td>\n",
       "      <td>0.0</td>\n",
       "      <td>0.0000</td>\n",
       "      <td>0.0</td>\n",
       "      <td>0.0</td>\n",
       "      <td>0.000</td>\n",
       "      <td>0.0</td>\n",
       "      <td>2.0351</td>\n",
       "      <td>...</td>\n",
       "      <td>0.0</td>\n",
       "      <td>0.3304</td>\n",
       "      <td>2.4857</td>\n",
       "      <td>0.0</td>\n",
       "      <td>8.1498</td>\n",
       "      <td>0.0</td>\n",
       "      <td>0.5372</td>\n",
       "      <td>31.1225</td>\n",
       "      <td>0.0000</td>\n",
       "      <td>0.5788</td>\n",
       "    </tr>\n",
       "    <tr>\n",
       "      <th>2</th>\n",
       "      <td>0.0000</td>\n",
       "      <td>0.0000</td>\n",
       "      <td>0.0000</td>\n",
       "      <td>0.0</td>\n",
       "      <td>0.0000</td>\n",
       "      <td>0.0</td>\n",
       "      <td>0.0</td>\n",
       "      <td>0.254</td>\n",
       "      <td>0.0</td>\n",
       "      <td>0.0000</td>\n",
       "      <td>...</td>\n",
       "      <td>0.0</td>\n",
       "      <td>0.0000</td>\n",
       "      <td>0.0000</td>\n",
       "      <td>0.0</td>\n",
       "      <td>0.0000</td>\n",
       "      <td>0.0</td>\n",
       "      <td>0.0000</td>\n",
       "      <td>0.0000</td>\n",
       "      <td>47.4664</td>\n",
       "      <td>0.0000</td>\n",
       "    </tr>\n",
       "    <tr>\n",
       "      <th>3</th>\n",
       "      <td>0.0000</td>\n",
       "      <td>0.0000</td>\n",
       "      <td>0.0000</td>\n",
       "      <td>0.0</td>\n",
       "      <td>0.0000</td>\n",
       "      <td>0.0</td>\n",
       "      <td>0.0</td>\n",
       "      <td>0.000</td>\n",
       "      <td>0.0</td>\n",
       "      <td>0.0000</td>\n",
       "      <td>...</td>\n",
       "      <td>0.0</td>\n",
       "      <td>0.0000</td>\n",
       "      <td>0.0000</td>\n",
       "      <td>0.0</td>\n",
       "      <td>0.0000</td>\n",
       "      <td>0.0</td>\n",
       "      <td>0.0000</td>\n",
       "      <td>0.0000</td>\n",
       "      <td>0.0000</td>\n",
       "      <td>0.0000</td>\n",
       "    </tr>\n",
       "    <tr>\n",
       "      <th>9</th>\n",
       "      <td>0.0000</td>\n",
       "      <td>0.0000</td>\n",
       "      <td>0.0000</td>\n",
       "      <td>0.0</td>\n",
       "      <td>130.9796</td>\n",
       "      <td>0.0</td>\n",
       "      <td>0.0</td>\n",
       "      <td>0.000</td>\n",
       "      <td>0.0</td>\n",
       "      <td>79.5905</td>\n",
       "      <td>...</td>\n",
       "      <td>0.0</td>\n",
       "      <td>0.0000</td>\n",
       "      <td>0.0000</td>\n",
       "      <td>0.0</td>\n",
       "      <td>0.0000</td>\n",
       "      <td>0.0</td>\n",
       "      <td>0.0000</td>\n",
       "      <td>0.0000</td>\n",
       "      <td>0.0000</td>\n",
       "      <td>0.0000</td>\n",
       "    </tr>\n",
       "    <tr>\n",
       "      <th>10</th>\n",
       "      <td>0.0000</td>\n",
       "      <td>0.0000</td>\n",
       "      <td>0.0000</td>\n",
       "      <td>0.0</td>\n",
       "      <td>0.0000</td>\n",
       "      <td>0.0</td>\n",
       "      <td>0.0</td>\n",
       "      <td>0.000</td>\n",
       "      <td>0.0</td>\n",
       "      <td>0.0000</td>\n",
       "      <td>...</td>\n",
       "      <td>0.0</td>\n",
       "      <td>0.0000</td>\n",
       "      <td>0.0000</td>\n",
       "      <td>0.0</td>\n",
       "      <td>0.0000</td>\n",
       "      <td>0.0</td>\n",
       "      <td>0.0000</td>\n",
       "      <td>0.0000</td>\n",
       "      <td>0.0000</td>\n",
       "      <td>0.0000</td>\n",
       "    </tr>\n",
       "  </tbody>\n",
       "</table>\n",
       "<p>5 rows × 1600 columns</p>\n",
       "</div>"
      ],
      "text/plain": [
       "         Sample_1  Sample_2  Sample_3  Sample_4  Sample_5  Sample_6  Sample_7  \\\n",
       "gene.id                                                                         \n",
       "1         47.3396   24.0458    2.2743       0.0    0.0000       0.0       0.0   \n",
       "2          0.0000    0.0000    0.0000       0.0    0.0000       0.0       0.0   \n",
       "3          0.0000    0.0000    0.0000       0.0    0.0000       0.0       0.0   \n",
       "9          0.0000    0.0000    0.0000       0.0  130.9796       0.0       0.0   \n",
       "10         0.0000    0.0000    0.0000       0.0    0.0000       0.0       0.0   \n",
       "\n",
       "         Sample_8  Sample_9  Sample_10  ...  Sample_1591  Sample_1592  \\\n",
       "gene.id                                 ...                             \n",
       "1           0.000       0.0     2.0351  ...          0.0       0.3304   \n",
       "2           0.254       0.0     0.0000  ...          0.0       0.0000   \n",
       "3           0.000       0.0     0.0000  ...          0.0       0.0000   \n",
       "9           0.000       0.0    79.5905  ...          0.0       0.0000   \n",
       "10          0.000       0.0     0.0000  ...          0.0       0.0000   \n",
       "\n",
       "         Sample_1593  Sample_1594  Sample_1595  Sample_1596  Sample_1597  \\\n",
       "gene.id                                                                    \n",
       "1             2.4857          0.0       8.1498          0.0       0.5372   \n",
       "2             0.0000          0.0       0.0000          0.0       0.0000   \n",
       "3             0.0000          0.0       0.0000          0.0       0.0000   \n",
       "9             0.0000          0.0       0.0000          0.0       0.0000   \n",
       "10            0.0000          0.0       0.0000          0.0       0.0000   \n",
       "\n",
       "         Sample_1598  Sample_1599  Sample_1600  \n",
       "gene.id                                         \n",
       "1            31.1225       0.0000       0.5788  \n",
       "2             0.0000      47.4664       0.0000  \n",
       "3             0.0000       0.0000       0.0000  \n",
       "9             0.0000       0.0000       0.0000  \n",
       "10            0.0000       0.0000       0.0000  \n",
       "\n",
       "[5 rows x 1600 columns]"
      ]
     },
     "execution_count": 3,
     "metadata": {},
     "output_type": "execute_result"
    }
   ],
   "source": [
    "# El archivo se descargo de https://www.ncbi.nlm.nih.gov/geo/download/?acc=GSE81608&format=file&file=GSE81608%5Fhuman%5Fislets%5Frpkm%2Etxt%2Egz\n",
    "data = pd.read_csv('GSE81608_human_islets_rpkm.txt.gz',sep = '\\t', index_col = 0)\n",
    "data.head()"
   ]
  },
  {
   "cell_type": "code",
   "execution_count": 4,
   "metadata": {},
   "outputs": [
    {
     "data": {
      "text/html": [
       "<div>\n",
       "<style scoped>\n",
       "    .dataframe tbody tr th:only-of-type {\n",
       "        vertical-align: middle;\n",
       "    }\n",
       "\n",
       "    .dataframe tbody tr th {\n",
       "        vertical-align: top;\n",
       "    }\n",
       "\n",
       "    .dataframe thead th {\n",
       "        text-align: right;\n",
       "    }\n",
       "</style>\n",
       "<table border=\"1\" class=\"dataframe\">\n",
       "  <thead>\n",
       "    <tr style=\"text-align: right;\">\n",
       "      <th></th>\n",
       "      <th>Sample_title</th>\n",
       "      <th>Sample_geo_accession</th>\n",
       "      <th>Sample_characteristics_ch1</th>\n",
       "      <th>Sample_characteristics_ch2</th>\n",
       "      <th>Sample_characteristics_ch3</th>\n",
       "      <th>Sample_characteristics_ch4</th>\n",
       "      <th>Sample_characteristics_ch5</th>\n",
       "    </tr>\n",
       "    <tr>\n",
       "      <th>Sample</th>\n",
       "      <th></th>\n",
       "      <th></th>\n",
       "      <th></th>\n",
       "      <th></th>\n",
       "      <th></th>\n",
       "      <th></th>\n",
       "      <th></th>\n",
       "    </tr>\n",
       "  </thead>\n",
       "  <tbody>\n",
       "    <tr>\n",
       "      <th>Sample_1</th>\n",
       "      <td>Pancreatic islet cell sample 1</td>\n",
       "      <td>GSM2157899</td>\n",
       "      <td>condition: non-diabetic</td>\n",
       "      <td>age: 23</td>\n",
       "      <td>ethnicity: AA</td>\n",
       "      <td>gender: M</td>\n",
       "      <td>cell subtype: beta</td>\n",
       "    </tr>\n",
       "    <tr>\n",
       "      <th>Sample_2</th>\n",
       "      <td>Pancreatic islet cell sample 2</td>\n",
       "      <td>GSM2157900</td>\n",
       "      <td>condition: non-diabetic</td>\n",
       "      <td>age: 23</td>\n",
       "      <td>ethnicity: AA</td>\n",
       "      <td>gender: M</td>\n",
       "      <td>cell subtype: beta</td>\n",
       "    </tr>\n",
       "    <tr>\n",
       "      <th>Sample_3</th>\n",
       "      <td>Pancreatic islet cell sample 3</td>\n",
       "      <td>GSM2157901</td>\n",
       "      <td>condition: non-diabetic</td>\n",
       "      <td>age: 23</td>\n",
       "      <td>ethnicity: AA</td>\n",
       "      <td>gender: M</td>\n",
       "      <td>cell subtype: beta</td>\n",
       "    </tr>\n",
       "    <tr>\n",
       "      <th>Sample_4</th>\n",
       "      <td>Pancreatic islet cell sample 4</td>\n",
       "      <td>GSM2157902</td>\n",
       "      <td>condition: non-diabetic</td>\n",
       "      <td>age: 23</td>\n",
       "      <td>ethnicity: AA</td>\n",
       "      <td>gender: M</td>\n",
       "      <td>cell subtype: beta</td>\n",
       "    </tr>\n",
       "    <tr>\n",
       "      <th>Sample_5</th>\n",
       "      <td>Pancreatic islet cell sample 5</td>\n",
       "      <td>GSM2157903</td>\n",
       "      <td>condition: non-diabetic</td>\n",
       "      <td>age: 23</td>\n",
       "      <td>ethnicity: AA</td>\n",
       "      <td>gender: M</td>\n",
       "      <td>cell subtype: beta</td>\n",
       "    </tr>\n",
       "  </tbody>\n",
       "</table>\n",
       "</div>"
      ],
      "text/plain": [
       "                            Sample_title Sample_geo_accession  \\\n",
       "Sample                                                          \n",
       "Sample_1  Pancreatic islet cell sample 1           GSM2157899   \n",
       "Sample_2  Pancreatic islet cell sample 2           GSM2157900   \n",
       "Sample_3  Pancreatic islet cell sample 3           GSM2157901   \n",
       "Sample_4  Pancreatic islet cell sample 4           GSM2157902   \n",
       "Sample_5  Pancreatic islet cell sample 5           GSM2157903   \n",
       "\n",
       "         Sample_characteristics_ch1 Sample_characteristics_ch2  \\\n",
       "Sample                                                           \n",
       "Sample_1    condition: non-diabetic                    age: 23   \n",
       "Sample_2    condition: non-diabetic                    age: 23   \n",
       "Sample_3    condition: non-diabetic                    age: 23   \n",
       "Sample_4    condition: non-diabetic                    age: 23   \n",
       "Sample_5    condition: non-diabetic                    age: 23   \n",
       "\n",
       "         Sample_characteristics_ch3 Sample_characteristics_ch4  \\\n",
       "Sample                                                           \n",
       "Sample_1              ethnicity: AA                  gender: M   \n",
       "Sample_2              ethnicity: AA                  gender: M   \n",
       "Sample_3              ethnicity: AA                  gender: M   \n",
       "Sample_4              ethnicity: AA                  gender: M   \n",
       "Sample_5              ethnicity: AA                  gender: M   \n",
       "\n",
       "         Sample_characteristics_ch5  \n",
       "Sample                               \n",
       "Sample_1         cell subtype: beta  \n",
       "Sample_2         cell subtype: beta  \n",
       "Sample_3         cell subtype: beta  \n",
       "Sample_4         cell subtype: beta  \n",
       "Sample_5         cell subtype: beta  "
      ]
     },
     "execution_count": 4,
     "metadata": {},
     "output_type": "execute_result"
    }
   ],
   "source": [
    "annotation.head()"
   ]
  },
  {
   "cell_type": "code",
   "execution_count": 5,
   "metadata": {},
   "outputs": [],
   "source": [
    "# Vamos a hacer un split training test\n",
    "scaler = StandardScaler()\n",
    "x_train, x_test, y_train, y_test = train_test_split(data.T, Y, train_size=0.5)\n",
    "x_train = scaler.fit_transform(x_train)\n",
    "x_test = scaler.transform(x_test)\n"
   ]
  },
  {
   "cell_type": "markdown",
   "metadata": {},
   "source": [
    "# Regresión Logistica"
   ]
  },
  {
   "cell_type": "code",
   "execution_count": 23,
   "metadata": {},
   "outputs": [],
   "source": [
    "tamanho = 15\n",
    "C = np.logspace(0,2,tamanho)\n",
    "F1_l1 = np.zeros(tamanho)\n",
    "F1_l2 = np.zeros(tamanho)\n",
    "\n",
    "for i in range(tamanho):\n",
    "    \n",
    "    clf_l1 = LogisticRegression(C=C[i], penalty='l1', solver='saga', tol=0.1)\n",
    "    clf_l2 = LogisticRegression(C=C[i], penalty='l2', solver='saga', tol=0.1)\n",
    "    clf_l1.fit(x_train, y_train)\n",
    "    clf_l2.fit(x_train, y_train)\n",
    "    F1_l1[i] = f1_score(y_test, clf_l1.predict(x_test), average='macro')\n",
    "    F1_l2[i] = f1_score(y_test, clf_l2.predict(x_test), average='macro')"
   ]
  },
  {
   "cell_type": "markdown",
   "metadata": {},
   "source": [
    "# Resultados"
   ]
  },
  {
   "cell_type": "code",
   "execution_count": 24,
   "metadata": {},
   "outputs": [
    {
     "data": {
      "text/plain": [
       "Text(0, 0.5, 'F1')"
      ]
     },
     "execution_count": 24,
     "metadata": {},
     "output_type": "execute_result"
    },
    {
     "data": {
      "image/png": "[encoded data removed]",
      "text/plain": [
       "<Figure size 432x288 with 1 Axes>"
      ]
     },
     "metadata": {
      "needs_background": "light"
     },
     "output_type": "display_data"
    }
   ],
   "source": [
    "plt.figure()\n",
    "plt.plot(C, F1_l1,  \"r-\",  label = 'l1')\n",
    "plt.plot(C, F1_l2,  \"g-\", label = 'l2')\n",
    "plt.legend()\n",
    "plt.xlabel('C')\n",
    "plt.ylabel('F1')\n"
   ]
  },
  {
   "cell_type": "code",
   "execution_count": 26,
   "metadata": {},
   "outputs": [
    {
     "data": {
      "text/plain": [
       "Text(0.5, 1.0, 'l2, C = 1.000000, F1 = 0.739986')"
      ]
     },
     "execution_count": 26,
     "metadata": {},
     "output_type": "execute_result"
    },
    {
     "data": {
      "image/png": "[encoded data removed]",
      "text/plain": [
       "<Figure size 432x288 with 2 Axes>"
      ]
     },
     "metadata": {
      "needs_background": "light"
     },
     "output_type": "display_data"
    },
    {
     "data": {
      "image/png": "[encoded data removed]",
      "text/plain": [
       "<Figure size 432x288 with 2 Axes>"
      ]
     },
     "metadata": {
      "needs_background": "light"
     },
     "output_type": "display_data"
    }
   ],
   "source": [
    "\n",
    "\n",
    "clf_l1 = LogisticRegression(C=C[np.argmax(F1_l1)], penalty='l1', solver='saga', tol=0.1)\n",
    "clf_l2 = LogisticRegression(C=C[np.argmax(F1_l2)], penalty='l2', solver='saga', tol=0.1)\n",
    "\n",
    "clf_l1.fit(x_train, y_train)\n",
    "clf_l2.fit(x_train, y_train)\n",
    "\n",
    "plot_confusion_matrix(clf_l1, x_test, y_test, normalize='true', xticks_rotation = 'vertical')\n",
    "plt.title('l1, C = %f, F1 = %f'%(C[np.argmax(F1_l1)],np.max(F1_l1)))\n",
    "plot_confusion_matrix(clf_l2, x_test, y_test, normalize='true', xticks_rotation = 'vertical')\n",
    "plt.title('l2, C = %f, F1 = %f'%(C[np.argmax(F1_l2)],np.max(F1_l2)))"
   ]
  },
  {
   "cell_type": "markdown",
   "metadata": {},
   "source": [
    "De acuerdo con las matrices de confusión, es claro que tanto las células  α- como las , β- se pueden clasificar claramente, sin embargo, este resultado no se obtiene con las otras dos células. Particularmente, las células δ- son las que tienden a clasificarse dentro de otros grupos. "
   ]
  },
  {
   "cell_type": "code",
   "execution_count": 27,
   "metadata": {},
   "outputs": [
    {
     "name": "stdout",
     "output_type": "stream",
     "text": [
      "Area de F1 l1 = 71.493941\n",
      "Area de F1 l2 = 71.029930\n"
     ]
    }
   ],
   "source": [
    "from numpy import trapz\n",
    "print('Area de F1 l1 = %f' %trapz(F1_l1, C))\n",
    "print('Area de F1 l2 = %f' %trapz(F1_l2, C))"
   ]
  },
  {
   "cell_type": "markdown",
   "metadata": {},
   "source": [
    "La diferencia clave entre la penalización l1 (Lasso) y l2 (Ridge) es que Lasso reduce el coeficiente de las características menos importantes a cero, eliminando por completo esas características. Por lo tanto, esto funciona bien para la selección de funciones en caso de que tengamos una gran cantidad de funciones. Al final, esto ocaciona que la clasificación se de mejor en l1 que en l2. \n",
    "\n",
    "Respecto al valor de C, de acuerdo con la documentación de sklearn, al igual que en las máquinas de vectores de soporte, los valores más pequeños especifican una regularización más fuerte. La regularización ayuda a aplicar una penalización para aumentar la magnitud de los valores de los parámetros con el fin de reducir el sobreajuste. Es por esto que en ambos tipos de penalización, el resultado con el mejor F1 implica tener un C pequeño"
   ]
  },
  {
   "cell_type": "code",
   "execution_count": null,
   "metadata": {},
   "outputs": [],
   "source": []
  }
 ],
 "metadata": {
  "kernelspec": {
   "display_name": "Python 3",
   "language": "python",
   "name": "python3"
  },
  "language_info": {
   "codemirror_mode": {
    "name": "ipython",
    "version": 3
   },
   "file_extension": ".py",
   "mimetype": "text/x-python",
   "name": "python",
   "nbconvert_exporter": "python",
   "pygments_lexer": "ipython3",
   "version": "3.7.6"
  }
 },
 "nbformat": 4,
 "nbformat_minor": 4
}
